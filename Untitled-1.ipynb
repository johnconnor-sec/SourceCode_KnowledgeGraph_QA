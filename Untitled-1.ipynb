{
 "cells": [
  {
   "cell_type": "code",
   "execution_count": 1,
   "metadata": {},
   "outputs": [],
   "source": [
    "import os\n",
    "import argparse\n",
    "from langchain_community.document_loaders.generic import GenericLoader\n",
    "from langchain_community.document_loaders.parsers import LanguageParser\n",
    "from langchain_text_splitters import Language, RecursiveCharacterTextSplitter\n",
    "from langchain_community.graphs import Neo4jGraph\n",
    "from langchain.chains import GraphCypherQAChain\n",
    "from langchain_openai import ChatOpenAI\n",
    "from dotenv import load_dotenv\n",
    "\n",
    "# Set up OpenAI credentials\n",
    "load_dotenv()\n",
    "\n",
    "# Set up Neo4j credentials\n",
    "os.environ[\"NEO4J_URI\"] = \"bolt://localhost:7687\"\n",
    "os.environ[\"NEO4J_USERNAME\"] = \"neo4j\"\n",
    "os.environ[\"NEO4J_PASSWORD\"] = \"password\"\n",
    "\n",
    "# Initialize Neo4j graph\n",
    "graph = Neo4jGraph()"
   ]
  },
  {
   "cell_type": "code",
   "execution_count": 2,
   "metadata": {},
   "outputs": [
    {
     "name": "stdout",
     "output_type": "stream",
     "text": [
      "Loaded documents: ['Unknown', 'Unknown', 'Unknown', 'Unknown', 'Unknown']\n",
      "Error loading source code: unhashable type: 'list'\n"
     ]
    }
   ],
   "source": [
    "def load_source_code_to_graph(directory_path):                                                                                                                        \n",
    "    try:                                                                                                                                                              \n",
    "        # Load source code                                                                                                                                            \n",
    "        loader = GenericLoader.from_filesystem(                                                                                                                       \n",
    "            directory_path,                                                                                                                                           \n",
    "            glob=\"*\",                                                                                                                                                 \n",
    "            suffixes=[\".py\", \".js\", \".go\", \".md\", \".html\"],  # Ensure .go is included                                                                                 \n",
    "            parser=LanguageParser()                                                                                                                                   \n",
    "        )                                                                                                                                                             \n",
    "        documents = loader.load()                                                                                                                                     \n",
    "        print(f\"Loaded documents: {[doc.metadata.get('name', 'Unknown') for doc in documents]}\")                                                                      \n",
    "                                                                                                                                                                       \n",
    "        # Split documents if they're too large                                                                                                                        \n",
    "        text_splitter = RecursiveCharacterTextSplitter.from_language(                                                                                                 \n",
    "            language=[Language.PYTHON,                                                                                                                                \n",
    "                      Language.JS,                                                                                                                                    \n",
    "                      Language.GO,  # Ensure Language.GO is defined                                                                                                   \n",
    "                      Language.HTML,                                                                                                                                  \n",
    "                      Language.MARKDOWN],                                                                                                                             \n",
    "            chunk_size=1000,                                                                                                                                          \n",
    "            chunk_overlap=0                                                                                                                                           \n",
    "        )                                                                                                                                                             \n",
    "        split_docs = text_splitter.split_documents(documents)                                                                                                         \n",
    "        print(f\"Split documents: {len(split_docs)} chunks\")                                                                                                           \n",
    "                                                                                                                                                                       \n",
    "        # Populate Neo4j graph                                                                                                                                        \n",
    "        for doc in split_docs:                                                                                                                                        \n",
    "            query = \"\"\"                                                                                                                                               \n",
    "            MERGE (f:CodeChunk {name: $name})                                                                                                                         \n",
    "            SET f.content = $content, f.language = $language                                                                                                          \n",
    "            \"\"\"                                                                                                                                                       \n",
    "            graph.query(query, {                                                                                                                                      \n",
    "                \"name\": doc.metadata.get('name', 'Unknown'),                                                                                                          \n",
    "                \"content\": doc.page_content,                                                                                                                          \n",
    "                \"language\": doc.metadata.get('language', 'Unknown')                                                                                                   \n",
    "            })                                                                                                                                                        \n",
    "                                                                                                                                                                       \n",
    "        # Create relationships between code chunks                                                                                                                    \n",
    "        graph.query(\"\"\"                                                                                                                                               \n",
    "        MATCH (a:CodeChunk), (b:CodeChunk)                                                                                                                            \n",
    "        WHERE a <> b AND a.language = b.language                                                                                                                      \n",
    "        MERGE (a)-[:SAME_LANGUAGE]->(b)                                                                                                                               \n",
    "        \"\"\")                                                                                                                                                          \n",
    "                                                                                                                                                                       \n",
    "        # Refresh graph schema                                                                                                                                        \n",
    "        graph.refresh_schema()                                                                                                                                        \n",
    "        print(\"Graph schema updated:\", graph.schema)                                                                                                                  \n",
    "    except Exception as e:                                                                                                                                            \n",
    "        print(f\"Error loading source code: {str(e)}\")                                                                                                                 \n",
    "                                                                                                                                                                       \n",
    " # Example usage                                                                                                                                                       \n",
    "directory_path = \"/home/sarah/Documents/AI_Code/fabric\"                                                                                                                             \n",
    "load_source_code_to_graph(directory_path) "
   ]
  },
  {
   "cell_type": "code",
   "execution_count": 3,
   "metadata": {},
   "outputs": [],
   "source": [
    "def setup_qa_chain():\n",
    "    try:\n",
    "        # Ensure we have a valid graph schema\n",
    "        graph.refresh_schema()\n",
    "        if not graph.schema:\n",
    "            raise ValueError(\"Graph schema is empty. Make sure data has been loaded into the graph.\")\n",
    "\n",
    "        # Initialize the language model\n",
    "        llm = ChatOpenAI(model=\"gpt-3.5-turbo\", temperature=0)\n",
    "\n",
    "        # Create the GraphCypherQAChain\n",
    "        chain = GraphCypherQAChain.from_llm(\n",
    "            graph=graph,\n",
    "            llm=llm,\n",
    "            verbose=True,\n",
    "            validate_cypher=True,\n",
    "            graph_schema=graph.schema,  # Explicitly provide the graph schema\n",
    "            cypher_query_corrector=None,  # Optional: You can implement a custom corrector if needed\n",
    "            return_intermediate_steps=True,  # This will return the Cypher query used\n",
    "            return_direct=False  # Set to True if you want to return the raw graph query results\n",
    "        )\n",
    "        \n",
    "        print(\"QA Chain setup successfully.\")\n",
    "        return chain\n",
    "    except Exception as e:\n",
    "        print(f\"Error setting up QA Chain: {str(e)}\")\n",
    "        return None"
   ]
  },
  {
   "cell_type": "code",
   "execution_count": 4,
   "metadata": {},
   "outputs": [],
   "source": [
    "def answer_query(chain, query):\n",
    "    response = chain.invoke({\"query\": query})\n",
    "    return response['result']"
   ]
  },
  {
   "cell_type": "code",
   "execution_count": 6,
   "metadata": {},
   "outputs": [
    {
     "name": "stdout",
     "output_type": "stream",
     "text": [
      "Loading source code from: /home/sarah/Documents/AI_Code/fabric\n",
      "Loaded documents: ['Unknown', 'Unknown', 'Unknown', 'Unknown', 'Unknown']\n",
      "Error loading source code: unhashable type: 'list'\n",
      "Error setting up QA Chain: langchain_community.chains.graph_qa.cypher.GraphCypherQAChain() got multiple values for keyword argument 'graph_schema'\n"
     ]
    },
    {
     "ename": "AttributeError",
     "evalue": "'NoneType' object has no attribute 'invoke'",
     "output_type": "error",
     "traceback": [
      "\u001b[0;31m---------------------------------------------------------------------------\u001b[0m",
      "\u001b[0;31mAttributeError\u001b[0m                            Traceback (most recent call last)",
      "Cell \u001b[0;32mIn[6], line 22\u001b[0m\n\u001b[1;32m     19\u001b[0m         \u001b[38;5;28mprint\u001b[39m()\n\u001b[1;32m     21\u001b[0m \u001b[38;5;66;03m# Run the main function\u001b[39;00m\n\u001b[0;32m---> 22\u001b[0m \u001b[43mmain\u001b[49m\u001b[43m(\u001b[49m\u001b[43m)\u001b[49m\n",
      "Cell \u001b[0;32mIn[6], line 17\u001b[0m, in \u001b[0;36mmain\u001b[0;34m()\u001b[0m\n\u001b[1;32m     15\u001b[0m \u001b[38;5;28;01mif\u001b[39;00m user_query\u001b[38;5;241m.\u001b[39mlower() \u001b[38;5;241m==\u001b[39m \u001b[38;5;124m'\u001b[39m\u001b[38;5;124mexit\u001b[39m\u001b[38;5;124m'\u001b[39m:\n\u001b[1;32m     16\u001b[0m     \u001b[38;5;28;01mbreak\u001b[39;00m\n\u001b[0;32m---> 17\u001b[0m answer \u001b[38;5;241m=\u001b[39m \u001b[43manswer_query\u001b[49m\u001b[43m(\u001b[49m\u001b[43mqa_chain\u001b[49m\u001b[43m,\u001b[49m\u001b[43m \u001b[49m\u001b[43muser_query\u001b[49m\u001b[43m)\u001b[49m\n\u001b[1;32m     18\u001b[0m \u001b[38;5;28mprint\u001b[39m(\u001b[38;5;124m\"\u001b[39m\u001b[38;5;124mAnswer:\u001b[39m\u001b[38;5;124m\"\u001b[39m, answer)\n\u001b[1;32m     19\u001b[0m \u001b[38;5;28mprint\u001b[39m()\n",
      "Cell \u001b[0;32mIn[4], line 2\u001b[0m, in \u001b[0;36manswer_query\u001b[0;34m(chain, query)\u001b[0m\n\u001b[1;32m      1\u001b[0m \u001b[38;5;28;01mdef\u001b[39;00m \u001b[38;5;21manswer_query\u001b[39m(chain, query):\n\u001b[0;32m----> 2\u001b[0m     response \u001b[38;5;241m=\u001b[39m \u001b[43mchain\u001b[49m\u001b[38;5;241;43m.\u001b[39;49m\u001b[43minvoke\u001b[49m({\u001b[38;5;124m\"\u001b[39m\u001b[38;5;124mquery\u001b[39m\u001b[38;5;124m\"\u001b[39m: query})\n\u001b[1;32m      3\u001b[0m     \u001b[38;5;28;01mreturn\u001b[39;00m response[\u001b[38;5;124m'\u001b[39m\u001b[38;5;124mresult\u001b[39m\u001b[38;5;124m'\u001b[39m]\n",
      "\u001b[0;31mAttributeError\u001b[0m: 'NoneType' object has no attribute 'invoke'"
     ]
    }
   ],
   "source": [
    "def main():\n",
    "    # Get the directory path from user input (for Jupyter Notebook)\n",
    "    # directory_path = input(\"Enter the path to the directory containing the source code: \")\n",
    "\n",
    "    # Load source code into graph\n",
    "    print(f\"Loading source code from: {directory_path}\")\n",
    "    load_source_code_to_graph(directory_path)\n",
    "\n",
    "    # Set up QA chain\n",
    "    qa_chain = setup_qa_chain()\n",
    "\n",
    "    # Interactive Q&A loop\n",
    "    while True:\n",
    "        user_query = input(\"Ask a question about the code (or type 'exit' to quit): \")\n",
    "        if user_query.lower() == 'exit':\n",
    "            break\n",
    "        answer = answer_query(qa_chain, user_query)\n",
    "        print(\"Answer:\", answer)\n",
    "        print()\n",
    "\n",
    "# Run the main function\n",
    "main()"
   ]
  }
 ],
 "metadata": {
  "kernelspec": {
   "display_name": "lc-teacher",
   "language": "python",
   "name": "python3"
  },
  "language_info": {
   "codemirror_mode": {
    "name": "ipython",
    "version": 3
   },
   "file_extension": ".py",
   "mimetype": "text/x-python",
   "name": "python",
   "nbconvert_exporter": "python",
   "pygments_lexer": "ipython3",
   "version": "3.12.5"
  }
 },
 "nbformat": 4,
 "nbformat_minor": 2
}
